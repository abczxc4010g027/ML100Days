{
 "cells": [
  {
   "cell_type": "markdown",
   "id": "intelligent-wonder",
   "metadata": {
    "id": "9qndwAG5UAKi"
   },
   "source": [
    "**作業目標**<br>\n",
    "在一個陣列中放入多屬性陣列，進一步對陣列做運算<br>\n",
    "作業重點<br>\n",
    "在建立結構化陣列前需要先設定屬性，在做運算時須注意資料屬性"
   ]
  },
  {
   "cell_type": "markdown",
   "id": "attached-switzerland",
   "metadata": {
    "id": "48DhzHvBUB2c"
   },
   "source": [
    "題目:<br>\n",
    "name_list = ['小明','小華','小菁','小美','小張','John','Mark','Tom']<br>\n",
    "sex_list = ['boy','boy','girl','girl','boy','boy','boy','boy']<br>\n",
    "weight_list = [67.5,75.3,50.1,45.5,80.8,90.4,78.4,70.7]<br>\n",
    "rank_list = [8,1,5,4,7,6,2,3]<br>\n",
    "myopia_list = [True,True,False,False,True,True,False,False]<br>\n",
    "1. 將上列list依照['name', 'sex', 'weight', 'rank', 'myopia']順序擺入array，並且資料型態順序擺入[Unicode,Unicode,float,int,boolean]<br>\n",
    "2. 呈上題，將array中體重(weight)數據集取出算出全部平均體重\n",
    "3. 呈上題，進一步算出男生(sex欄位是boy)平均體重、女生(sex欄位是girl)平均體重\n"
   ]
  },
  {
   "cell_type": "code",
   "execution_count": 2,
   "id": "inclusive-fifteen",
   "metadata": {},
   "outputs": [],
   "source": [
    "import numpy as np"
   ]
  },
  {
   "cell_type": "code",
   "execution_count": 3,
   "id": "patient-seller",
   "metadata": {},
   "outputs": [],
   "source": [
    "name_list = ['小明','小華','小菁','小美','小張','John','Mark','Tom']\n",
    "sex_list = ['boy','boy','girl','girl','boy','boy','boy','boy']\n",
    "weight_list = [67.5,75.3,50.1,45.5,80.8,90.4,78.4,70.7]\n",
    "rank_list = [8,1,5,4,7,6,2,3]\n",
    "myopia_list = [True,True,False,False,True,True,False,False]"
   ]
  },
  {
   "cell_type": "code",
   "execution_count": 4,
   "id": "pretty-logging",
   "metadata": {
    "id": "ElavkYgwVftG"
   },
   "outputs": [
    {
     "data": {
      "text/plain": [
       "array([('', '', 0., 0, False), ('', '', 0., 0, False),\n",
       "       ('', '', 0., 0, False), ('', '', 0., 0, False),\n",
       "       ('', '', 0., 0, False), ('', '', 0., 0, False),\n",
       "       ('', '', 0., 0, False), ('', '', 0., 0, False)],\n",
       "      dtype=[('name', '<U5'), ('sex', '<U5'), ('weight', '<f8'), ('rank', '<i4'), ('myopia', '?')])"
      ]
     },
     "execution_count": 4,
     "metadata": {},
     "output_type": "execute_result"
    }
   ],
   "source": [
    "#1. 將上列list依照['name', 'sex', 'weight', 'rank', 'myopia']順序擺入array，並且資料型態順序擺入[Unicode,Unicode,float,int,boolean]\n",
    "dt = np.dtype({'names':('name', 'sex', 'weight', 'rank', 'myopia'), \n",
    "               'formats':((np.str_, 5), (np.str_, 5), np.float_, np.int32, np.bool_)})\n",
    "c = np.zeros(8, dtype = dt)\n",
    "c"
   ]
  },
  {
   "cell_type": "code",
   "execution_count": 6,
   "id": "brutal-publisher",
   "metadata": {},
   "outputs": [
    {
     "name": "stdout",
     "output_type": "stream",
     "text": [
      "[('小明', 'boy', 67.5, 8,  True) ('小華', 'boy', 75.3, 1,  True)\n",
      " ('小菁', 'girl', 50.1, 5, False) ('小美', 'girl', 45.5, 4, False)\n",
      " ('小張', 'boy', 80.8, 7,  True) ('John', 'boy', 90.4, 6,  True)\n",
      " ('Mark', 'boy', 78.4, 2, False) ('Tom', 'boy', 70.7, 3, False)]\n"
     ]
    }
   ],
   "source": [
    "c['name'] = name_list\n",
    "c['sex'] = sex_list\n",
    "c['weight'] = weight_list\n",
    "c['rank'] = rank_list\n",
    "c['myopia'] = myopia_list\n",
    "print(c)"
   ]
  },
  {
   "cell_type": "code",
   "execution_count": 8,
   "id": "intermediate-source",
   "metadata": {
    "id": "N-xffNSVWbP1"
   },
   "outputs": [
    {
     "data": {
      "text/plain": [
       "69.8375"
      ]
     },
     "execution_count": 8,
     "metadata": {},
     "output_type": "execute_result"
    }
   ],
   "source": [
    "#2. 呈上題，將array中體重(weight)數據集取出算出全部平均體重\n",
    "weightarr = c['weight']\n",
    "weightarr = weightarr.mean()\n",
    "weightarr"
   ]
  },
  {
   "cell_type": "code",
   "execution_count": 15,
   "id": "auburn-white",
   "metadata": {
    "id": "_LhLg8RiWwEm"
   },
   "outputs": [
    {
     "data": {
      "text/plain": [
       "77.18333333333332"
      ]
     },
     "execution_count": 15,
     "metadata": {},
     "output_type": "execute_result"
    }
   ],
   "source": [
    "#3. 呈上題，進一步算出男生(sex欄位是boy)平均體重\n",
    "boywight = c[c['sex'] == 'boy']['weight']\n",
    "boywight = boywight.mean()\n",
    "boywight"
   ]
  },
  {
   "cell_type": "code",
   "execution_count": 16,
   "id": "unlikely-child",
   "metadata": {
    "id": "f_J05IPxX6fg"
   },
   "outputs": [
    {
     "data": {
      "text/plain": [
       "47.8"
      ]
     },
     "execution_count": 16,
     "metadata": {},
     "output_type": "execute_result"
    }
   ],
   "source": [
    "#3. 呈上題，進一步算出女生(sex欄位是girl)平均體重\n",
    "girlweight = c[c['sex'] == 'girl']['weight']\n",
    "girlweight = girlweight.mean()\n",
    "girlweight"
   ]
  }
 ],
 "metadata": {
  "kernelspec": {
   "display_name": "Python 3",
   "language": "python",
   "name": "python3"
  },
  "language_info": {
   "codemirror_mode": {
    "name": "ipython",
    "version": 3
   },
   "file_extension": ".py",
   "mimetype": "text/x-python",
   "name": "python",
   "nbconvert_exporter": "python",
   "pygments_lexer": "ipython3",
   "version": "3.8.4"
  }
 },
 "nbformat": 4,
 "nbformat_minor": 5
}
