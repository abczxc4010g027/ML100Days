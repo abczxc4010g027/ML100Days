{
 "cells": [
  {
   "cell_type": "code",
   "execution_count": 2,
   "id": "aware-indian",
   "metadata": {},
   "outputs": [],
   "source": [
    "###作業"
   ]
  },
  {
   "cell_type": "code",
   "execution_count": 3,
   "id": "underlying-columbia",
   "metadata": {},
   "outputs": [
    {
     "ename": "SyntaxError",
     "evalue": "invalid character in identifier (<ipython-input-3-be3c0770e888>, line 1)",
     "output_type": "error",
     "traceback": [
      "\u001b[1;36m  File \u001b[1;32m\"<ipython-input-3-be3c0770e888>\"\u001b[1;36m, line \u001b[1;32m1\u001b[0m\n\u001b[1;33m    1. 在速度較慢的時候，可以先從哪邊開始檢查？\u001b[0m\n\u001b[1;37m                          ^\u001b[0m\n\u001b[1;31mSyntaxError\u001b[0m\u001b[1;31m:\u001b[0m invalid character in identifier\n"
     ]
    }
   ],
   "source": [
    "#1. 在速度較慢的時候，可以先從哪邊開始檢查？\n",
    "\n",
    "#1. 資料型態\n",
    "#2. 是否使用內建函式"
   ]
  },
  {
   "cell_type": "code",
   "execution_count": null,
   "id": "endangered-karma",
   "metadata": {},
   "outputs": [],
   "source": [
    "#2. 資料過⼤時應採取什麼⽅式讓記憶體占⽤量下降？\n",
    "\n",
    "#將欄位型號降級"
   ]
  }
 ],
 "metadata": {
  "kernelspec": {
   "display_name": "Python 3",
   "language": "python",
   "name": "python3"
  },
  "language_info": {
   "codemirror_mode": {
    "name": "ipython",
    "version": 3
   },
   "file_extension": ".py",
   "mimetype": "text/x-python",
   "name": "python",
   "nbconvert_exporter": "python",
   "pygments_lexer": "ipython3",
   "version": "3.8.4"
  }
 },
 "nbformat": 4,
 "nbformat_minor": 5
}
