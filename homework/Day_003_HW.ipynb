{
 "cells": [
  {
   "cell_type": "markdown",
   "id": "threatened-black",
   "metadata": {},
   "source": [
    "### 1. [簡答題] 請比較 np.zeros 和 np.empty 產生出來的陣列有何差異？為什麼要設計兩種方法？\n",
    "\n",
    "```\n",
    "print(np.zeros((2, 3)))\n",
    "print(np.empty((2, 3)))\n",
    "```\n"
   ]
  },
  {
   "cell_type": "code",
   "execution_count": null,
   "id": "enhanced-agenda",
   "metadata": {},
   "outputs": [],
   "source": [
    "'''\n",
    "Your Code\n",
    "np.zeros()：建立一個元素全為0的陣列。\n",
    "np.empty():建立一個全新未初始化之陣列。\n",
    "'''"
   ]
  },
  {
   "cell_type": "markdown",
   "id": "reflected-rental",
   "metadata": {},
   "source": [
    "### 2. 在不用「整數亂數方法」的限制下，如何將包含小數的轉換整數？請將給定的 a 陣列當中的元素變成去掉小數變成整數。\n"
   ]
  },
  {
   "cell_type": "code",
   "execution_count": 28,
   "id": "threaded-sword",
   "metadata": {},
   "outputs": [
    {
     "name": "stdout",
     "output_type": "stream",
     "text": [
      "[[19. 54. 50.]\n",
      " [86. 21. 28.]]\n"
     ]
    }
   ],
   "source": [
    "import numpy as np\n",
    "a = np.random.rand(2, 3)\n",
    "print((a * 100).round())"
   ]
  },
  {
   "cell_type": "markdown",
   "id": "adjusted-going",
   "metadata": {},
   "source": [
    "### 3. 承上題，怎樣可以限制整數的範圍介於 m - n 之間？請將給定的 a 陣列當中的元素的範圍調整成 m - n 之間。\n"
   ]
  },
  {
   "cell_type": "code",
   "execution_count": 70,
   "id": "roman-cleanup",
   "metadata": {},
   "outputs": [
    {
     "name": "stdout",
     "output_type": "stream",
     "text": [
      "[[25. 39. 35.]\n",
      " [24. 26. 25.]]\n"
     ]
    }
   ],
   "source": [
    "m = 20\n",
    "n = 40\n",
    "a = np.random.rand(2, 3)\n",
    "a = (a * 100).round()\n",
    "b = a.reshape(-1)\n",
    "num = 0\n",
    "for i in b:\n",
    "    if i < 20:\n",
    "        b[num] = np.random.randint(20, high = 40)\n",
    "    if i > 40:\n",
    "        b[num] = np.random.randint(20, high = 40)\n",
    "    num += 1\n",
    "c = b.reshape(a.shape)\n",
    "print(c)"
   ]
  }
 ],
 "metadata": {
  "kernelspec": {
   "display_name": "Python 3",
   "language": "python",
   "name": "python3"
  },
  "language_info": {
   "codemirror_mode": {
    "name": "ipython",
    "version": 3
   },
   "file_extension": ".py",
   "mimetype": "text/x-python",
   "name": "python",
   "nbconvert_exporter": "python",
   "pygments_lexer": "ipython3",
   "version": "3.8.4"
  }
 },
 "nbformat": 4,
 "nbformat_minor": 5
}
