{
 "cells": [
  {
   "cell_type": "code",
   "execution_count": null,
   "id": "textile-spencer",
   "metadata": {},
   "outputs": [],
   "source": [
    "題目:\n",
    "1.生成一個等差數列，首數為0，尾數為20，公差為1的數列。\n",
    "2.呈上題，將以上數列取出偶數。\n",
    "3.呈1題，將數列取出3的倍數。"
   ]
  },
  {
   "cell_type": "code",
   "execution_count": 3,
   "id": "protected-assistant",
   "metadata": {},
   "outputs": [
    {
     "data": {
      "text/plain": [
       "array([ 0,  1,  2,  3,  4,  5,  6,  7,  8,  9, 10, 11, 12, 13, 14, 15, 16,\n",
       "       17, 18, 19, 20])"
      ]
     },
     "execution_count": 3,
     "metadata": {},
     "output_type": "execute_result"
    }
   ],
   "source": [
    "#1.生成一個等差數列，首數為0，尾數為20，公差為1的數列。\n",
    "import numpy as np\n",
    "array = np.arange(0, 21, 1)\n",
    "array"
   ]
  },
  {
   "cell_type": "code",
   "execution_count": 22,
   "id": "lyric-price",
   "metadata": {},
   "outputs": [
    {
     "data": {
      "text/plain": [
       "array([ 0,  2,  4,  6,  8, 10, 12, 14, 16, 18, 20])"
      ]
     },
     "execution_count": 22,
     "metadata": {},
     "output_type": "execute_result"
    }
   ],
   "source": [
    "#2.呈上題，將以上數列取出偶數。\n",
    "array_even = []\n",
    "for i in array:\n",
    "    if i % 2 == 0:\n",
    "        array_even.append(i)\n",
    "array_even = np.array(array_even)\n",
    "array_even"
   ]
  },
  {
   "cell_type": "code",
   "execution_count": 21,
   "id": "educated-robertson",
   "metadata": {},
   "outputs": [
    {
     "data": {
      "text/plain": [
       "array([ 0,  3,  6,  9, 12, 15, 18])"
      ]
     },
     "execution_count": 21,
     "metadata": {},
     "output_type": "execute_result"
    }
   ],
   "source": [
    "#3.呈1題，將數列取出3的倍數。\n",
    "array_3 = []\n",
    "for j in array:\n",
    "    if j % 3 == 0:\n",
    "        array_3.append(j)\n",
    "array_3 = np.array(array_3)\n",
    "array_3"
   ]
  },
  {
   "cell_type": "markdown",
   "id": "renewable-distinction",
   "metadata": {
    "id": "SYkvkp9YLwB7"
   },
   "source": [
    "### 1. [簡答題] 請問下列兩種將 Array 轉換成 List 的方式有何不同？\n",
    "\n",
    "```\n",
    "print('list(a): ', list(a))\n",
    "print('tolist(): ', a.tolist())\n",
    "```\n"
   ]
  },
  {
   "cell_type": "code",
   "execution_count": null,
   "id": "recovered-output",
   "metadata": {},
   "outputs": [],
   "source": [
    "'''\n",
    "Your Code\n",
    "list() -> 將最外層轉換為list內層仍為array\n",
    "tolist() -> 將整個array轉換成list\n",
    "'''"
   ]
  },
  {
   "cell_type": "markdown",
   "id": "comprehensive-balloon",
   "metadata": {
    "id": "AC9wUCyALwB9"
   },
   "source": [
    "### 2. 請試著在程式中印出以下三個 NdArray 的屬性並且解釋結果？（屬性：ndim、shape、size、dtype、itemsize、length、type）\n",
    "\n",
    "```\n",
    "a = np.random.randint(10, size=6) \n",
    "b = np.random.randint(10, size=(3,4)) \n",
    "c = np.random.randint(10, size=(2,3,2)) \n",
    "```"
   ]
  },
  {
   "cell_type": "code",
   "execution_count": null,
   "id": "legendary-bathroom",
   "metadata": {},
   "outputs": [],
   "source": [
    "# 記得先 Import 正確的套件\n",
    "import numpy as np\n",
    "import random\n",
    "'''\n",
    "Your Code\n",
    "'''"
   ]
  },
  {
   "cell_type": "code",
   "execution_count": null,
   "id": "juvenile-baseball",
   "metadata": {},
   "outputs": [],
   "source": [
    "\n",
    "a = np.random.randint(10, size=6)\n",
    "print(a)\n",
    "print(a.ndim)\n",
    "print(a.shape)\n",
    "print(a.size)\n",
    "print(a.dtype)\n",
    "print(a.itemsize)\n",
    "print(len(a))\n",
    "print(type(a))\n",
    "'''\n",
    "Your Code\n",
    "a.ndim -> 一維陣列\n",
    "a.shape -> 一維大小為6\n",
    "a.size -> 陣列當中有6個元素\n",
    "a.dtype -> 資料型態為int32\n",
    "a.itemsize -> 陣列中元素占多少位元組(32 / 8 = 4)\n",
    "len(a) -> 陣列長度為6\n",
    "type(a) -> a為numpy.ndarray\n",
    "'''"
   ]
  },
  {
   "cell_type": "code",
   "execution_count": null,
   "id": "medieval-saskatchewan",
   "metadata": {},
   "outputs": [],
   "source": [
    "b = np.random.randint(10, size=(3,4)) \n",
    "print(b)\n",
    "print(b.ndim)\n",
    "print(b.shape)\n",
    "print(b.size)\n",
    "print(b.dtype)\n",
    "print(b.itemsize)\n",
    "print(len(b))\n",
    "print(type(b))\n",
    "'''\n",
    "Your Code\n",
    "b.ndim -> 二維陣列\n",
    "b.shape -> 一維大小為3；二為大小為4\n",
    "b.size -> 陣列當中有12個元素\n",
    "b.dtype -> 資料型態為int32\n",
    "b.itemsize -> 陣列中元素占多少位元組(32 / 8 = 4)\n",
    "len(b) -> 陣列長度為3\n",
    "type(b) -> b為numpy.ndarray\n",
    "'''"
   ]
  },
  {
   "cell_type": "code",
   "execution_count": null,
   "id": "optional-allah",
   "metadata": {},
   "outputs": [],
   "source": [
    "c = np.random.randint(10, size=(2,3,2)) \n",
    "print(c)\n",
    "print(c.ndim)\n",
    "print(c.shape)\n",
    "print(c.size)\n",
    "print(c.dtype)\n",
    "print(c.itemsize)\n",
    "print(len(c))\n",
    "print(type(c))\n",
    "'''\n",
    "Your Code\n",
    "c.ndim -> 三維陣列\n",
    "c.shape -> 一維大小為2；二為大小為3；三為大小為2\n",
    "c.size -> 陣列當中有12個元素\n",
    "c.dtype -> 資料型態為int32\n",
    "c.itemsize -> 陣列中元素占多少位元組(32 / 8 = 4)\n",
    "len(c) -> 陣列長度為2\n",
    "type(c) -> c為numpy.ndarray\n",
    "'''"
   ]
  },
  {
   "cell_type": "markdown",
   "id": "liquid-fitness",
   "metadata": {
    "id": "Uf6zC0QZLwCE"
   },
   "source": [
    "### 3. 如何利用 list(...) 實現 a.tolist() 的效果？試著用程式實作。\n"
   ]
  },
  {
   "cell_type": "code",
   "execution_count": 38,
   "id": "bottom-grove",
   "metadata": {},
   "outputs": [],
   "source": [
    "import numpy as np\n",
    "a = np.random.randint(10, size=6) \n",
    "b = np.random.randint(10, size=(3,4)) \n",
    "c = np.random.randint(10, size=(2,3,2))"
   ]
  },
  {
   "cell_type": "code",
   "execution_count": 39,
   "id": "executive-adapter",
   "metadata": {},
   "outputs": [],
   "source": [
    "def mytolist(array):\n",
    "    newlist = []\n",
    "    if array.ndim == 3:\n",
    "        for x in range(0,array.shape[0]):\n",
    "            for y in range(0,array.shape[1]):\n",
    "                newlist.append(list(c[x][y]))\n",
    "        return newlist\n",
    "    if array.ndim == 2:\n",
    "        for x in range(0,array.shape[0]):\n",
    "            newlist.append(list(array[x]))\n",
    "        return newlist\n",
    "    else:\n",
    "        return list(array)"
   ]
  },
  {
   "cell_type": "code",
   "execution_count": 40,
   "id": "subsequent-grocery",
   "metadata": {},
   "outputs": [
    {
     "name": "stdout",
     "output_type": "stream",
     "text": [
      "[3, 7, 9, 5, 8, 4]\n",
      "[[4, 0, 8, 5], [0, 7, 8, 6], [6, 7, 5, 1]]\n",
      "[[6, 0], [7, 6], [5, 2], [9, 1], [1, 9], [8, 4]]\n"
     ]
    }
   ],
   "source": [
    "print(mytolist(a))\n",
    "print(mytolist(b))\n",
    "print(mytolist(c))"
   ]
  },
  {
   "cell_type": "code",
   "execution_count": null,
   "id": "conceptual-fight",
   "metadata": {},
   "outputs": [],
   "source": []
  }
 ],
 "metadata": {
  "kernelspec": {
   "display_name": "Python 3",
   "language": "python",
   "name": "python3"
  },
  "language_info": {
   "codemirror_mode": {
    "name": "ipython",
    "version": 3
   },
   "file_extension": ".py",
   "mimetype": "text/x-python",
   "name": "python",
   "nbconvert_exporter": "python",
   "pygments_lexer": "ipython3",
   "version": "3.8.4"
  }
 },
 "nbformat": 4,
 "nbformat_minor": 5
}
