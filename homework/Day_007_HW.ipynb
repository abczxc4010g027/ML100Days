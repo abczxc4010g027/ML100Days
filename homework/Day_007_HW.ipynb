{
 "cells": [
  {
   "cell_type": "markdown",
   "id": "employed-fusion",
   "metadata": {
    "colab_type": "text",
    "id": "P6xk2_jLsvFF"
   },
   "source": [
    "# [作業目標]\n",
    "\n",
    "1. 請比較對一個 100 x 100 * 100 的陣列，使用不同方法對每一個元素 +1 的時間比較。\n",
    "\n",
    "2. 如何從一個陣列中，找出出現頻率最高的數值與位置？\n",
    "\n",
    "3. 如何利用 list(...) 實現 a.tolist() 的效果？試著用程式實作。\n"
   ]
  },
  {
   "cell_type": "markdown",
   "id": "desirable-sending",
   "metadata": {
    "colab_type": "text",
    "id": "uXGll28asvFS"
   },
   "source": [
    "# 作業 "
   ]
  },
  {
   "cell_type": "markdown",
   "id": "working-wednesday",
   "metadata": {},
   "source": [
    "### 1. 請比較對一個 1000 x 100 x 100 的陣列，使用不同方法對每一個元素 +1 的時間比較。\n",
    "\n",
    "\n"
   ]
  },
  {
   "cell_type": "code",
   "execution_count": 1,
   "id": "trained-prediction",
   "metadata": {},
   "outputs": [],
   "source": [
    "import numpy as np\n",
    "Z = np.random.randint(0, 10, 1000000).reshape(100, 100, 100)"
   ]
  },
  {
   "cell_type": "code",
   "execution_count": 2,
   "id": "satisfied-substitute",
   "metadata": {},
   "outputs": [
    {
     "name": "stdout",
     "output_type": "stream",
     "text": [
      "22.9 ns ± 7 ns per loop (mean ± std. dev. of 7 runs, 10 loops each)\n"
     ]
    },
    {
     "data": {
      "text/plain": [
       "array([[[ 1,  9,  3, ...,  1,  4,  7],\n",
       "        [ 9,  1,  3, ...,  5,  1,  8],\n",
       "        [ 6, 10,  7, ...,  1,  3,  5],\n",
       "        ...,\n",
       "        [ 8,  6,  3, ...,  3,  2,  8],\n",
       "        [ 6,  5,  7, ...,  3,  7,  1],\n",
       "        [ 9,  4,  7, ...,  8,  1,  7]],\n",
       "\n",
       "       [[ 9,  7,  7, ...,  1,  7,  8],\n",
       "        [ 5,  8, 10, ...,  1,  9, 10],\n",
       "        [ 9, 10, 10, ...,  8, 10,  1],\n",
       "        ...,\n",
       "        [ 8,  3,  1, ..., 10,  1,  8],\n",
       "        [ 3,  3,  7, ...,  1,  9,  3],\n",
       "        [ 3,  8,  2, ...,  2,  7,  1]],\n",
       "\n",
       "       [[ 6,  4,  2, ...,  1,  6, 10],\n",
       "        [ 4,  1,  2, ...,  8,  6,  6],\n",
       "        [10,  9,  5, ...,  8,  5,  1],\n",
       "        ...,\n",
       "        [ 5,  1,  8, ...,  6,  1,  4],\n",
       "        [ 6,  6,  8, ...,  1,  9,  3],\n",
       "        [ 9, 10,  4, ...,  3,  1,  5]],\n",
       "\n",
       "       ...,\n",
       "\n",
       "       [[ 3,  7,  7, ...,  9,  3,  9],\n",
       "        [ 1,  3,  5, ...,  4,  6,  6],\n",
       "        [ 9,  6,  2, ...,  8,  4,  3],\n",
       "        ...,\n",
       "        [ 3,  7, 10, ...,  6,  6,  3],\n",
       "        [ 4,  2,  8, ...,  4,  3, 10],\n",
       "        [ 9,  7,  6, ...,  4,  8, 10]],\n",
       "\n",
       "       [[ 2,  1,  2, ...,  1,  4,  3],\n",
       "        [10,  3,  1, ...,  6,  6,  4],\n",
       "        [ 1,  7,  4, ...,  3,  5,  4],\n",
       "        ...,\n",
       "        [ 3,  3,  9, ...,  1,  8,  9],\n",
       "        [ 1,  6, 10, ...,  9,  5, 10],\n",
       "        [ 9,  3, 10, ...,  2,  5,  6]],\n",
       "\n",
       "       [[ 7,  7,  4, ...,  4,  2,  9],\n",
       "        [ 2,  7,  3, ...,  9,  2,  1],\n",
       "        [ 2,  9,  8, ...,  5, 10,  8],\n",
       "        ...,\n",
       "        [ 2,  5,  4, ...,  1,  5,  3],\n",
       "        [10,  5, 10, ...,  4,  1,  1],\n",
       "        [ 6,  5,  1, ...,  3,  3,  7]]])"
      ]
     },
     "execution_count": 2,
     "metadata": {},
     "output_type": "execute_result"
    }
   ],
   "source": [
    "%timeit -n 10 a = 2\n",
    "Z + 1"
   ]
  },
  {
   "cell_type": "code",
   "execution_count": 3,
   "id": "rocky-attempt",
   "metadata": {},
   "outputs": [
    {
     "name": "stdout",
     "output_type": "stream",
     "text": [
      "20 ns ± 9.26 ns per loop (mean ± std. dev. of 7 runs, 10 loops each)\n"
     ]
    }
   ],
   "source": [
    "%timeit -n 10 a = 2\n",
    "Z_flat = []\n",
    "for i in Z.flatten():\n",
    "    Z_flat.append(i+1)\n",
    "Z1 = np.array(Z_flat).reshape(100, 100, 100)"
   ]
  },
  {
   "cell_type": "code",
   "execution_count": 4,
   "id": "infectious-withdrawal",
   "metadata": {},
   "outputs": [
    {
     "name": "stdout",
     "output_type": "stream",
     "text": [
      "18.6 ns ± 9.9 ns per loop (mean ± std. dev. of 7 runs, 10 loops each)\n",
      "[[[ 1  9  3 ...  1  4  7]\n",
      "  [ 9  1  3 ...  5  1  8]\n",
      "  [ 6 10  7 ...  1  3  5]\n",
      "  ...\n",
      "  [ 8  6  3 ...  3  2  8]\n",
      "  [ 6  5  7 ...  3  7  1]\n",
      "  [ 9  4  7 ...  8  1  7]]\n",
      "\n",
      " [[ 9  7  7 ...  1  7  8]\n",
      "  [ 5  8 10 ...  1  9 10]\n",
      "  [ 9 10 10 ...  8 10  1]\n",
      "  ...\n",
      "  [ 8  3  1 ... 10  1  8]\n",
      "  [ 3  3  7 ...  1  9  3]\n",
      "  [ 3  8  2 ...  2  7  1]]\n",
      "\n",
      " [[ 6  4  2 ...  1  6 10]\n",
      "  [ 4  1  2 ...  8  6  6]\n",
      "  [10  9  5 ...  8  5  1]\n",
      "  ...\n",
      "  [ 5  1  8 ...  6  1  4]\n",
      "  [ 6  6  8 ...  1  9  3]\n",
      "  [ 9 10  4 ...  3  1  5]]\n",
      "\n",
      " ...\n",
      "\n",
      " [[ 3  7  7 ...  9  3  9]\n",
      "  [ 1  3  5 ...  4  6  6]\n",
      "  [ 9  6  2 ...  8  4  3]\n",
      "  ...\n",
      "  [ 3  7 10 ...  6  6  3]\n",
      "  [ 4  2  8 ...  4  3 10]\n",
      "  [ 9  7  6 ...  4  8 10]]\n",
      "\n",
      " [[ 2  1  2 ...  1  4  3]\n",
      "  [10  3  1 ...  6  6  4]\n",
      "  [ 1  7  4 ...  3  5  4]\n",
      "  ...\n",
      "  [ 3  3  9 ...  1  8  9]\n",
      "  [ 1  6 10 ...  9  5 10]\n",
      "  [ 9  3 10 ...  2  5  6]]\n",
      "\n",
      " [[ 7  7  4 ...  4  2  9]\n",
      "  [ 2  7  3 ...  9  2  1]\n",
      "  [ 2  9  8 ...  5 10  8]\n",
      "  ...\n",
      "  [ 2  5  4 ...  1  5  3]\n",
      "  [10  5 10 ...  4  1  1]\n",
      "  [ 6  5  1 ...  3  3  7]]]\n"
     ]
    }
   ],
   "source": [
    "%timeit -n 10 a = 2\n",
    "Z2 = np.array([i+1 for i in Z.flatten()]).reshape(100, 100, 100)\n",
    "print(Z2)"
   ]
  },
  {
   "cell_type": "markdown",
   "id": "competent-details",
   "metadata": {},
   "source": [
    "### 2. 如何從一個陣列中，找出出現頻率最高的數值與位置？\n"
   ]
  },
  {
   "cell_type": "code",
   "execution_count": 7,
   "id": "expensive-motion",
   "metadata": {},
   "outputs": [
    {
     "name": "stdout",
     "output_type": "stream",
     "text": [
      "[5 0 3 3 7 9 3 5 2 4 7 6 8 8 1 6 7 7 8 1 5 9 8 9 4 3 0 3 5 0 2 3 8 1 3 3 3\n",
      " 7 0 1 9 9 0 4 7 3 2 7 2 0]\n"
     ]
    }
   ],
   "source": [
    "np.random.seed(0)\n",
    "Z = np.random.randint(0,10,50)\n",
    "print(Z)"
   ]
  },
  {
   "cell_type": "code",
   "execution_count": 8,
   "id": "assisted-dating",
   "metadata": {},
   "outputs": [
    {
     "data": {
      "text/plain": [
       "{0: 6, 1: 4, 2: 4, 3: 10, 4: 3, 5: 4, 6: 2, 7: 7, 8: 5, 9: 5}"
      ]
     },
     "execution_count": 8,
     "metadata": {},
     "output_type": "execute_result"
    }
   ],
   "source": [
    "unique, counts = np.unique(Z, return_counts = True)\n",
    "Z_dict = dict(zip(unique, counts))\n",
    "Z_dict"
   ]
  },
  {
   "cell_type": "code",
   "execution_count": 9,
   "id": "devoted-crash",
   "metadata": {},
   "outputs": [
    {
     "data": {
      "text/plain": [
       "3"
      ]
     },
     "execution_count": 9,
     "metadata": {},
     "output_type": "execute_result"
    }
   ],
   "source": [
    "Z_dict_max = max(Z_dict, key = Z_dict.get)\n",
    "Z_dict_max"
   ]
  },
  {
   "cell_type": "code",
   "execution_count": 10,
   "id": "nuclear-nursery",
   "metadata": {},
   "outputs": [
    {
     "data": {
      "text/plain": [
       "(array([ 2,  3,  6, 25, 27, 31, 34, 35, 36, 45], dtype=int64),)"
      ]
     },
     "execution_count": 10,
     "metadata": {},
     "output_type": "execute_result"
    }
   ],
   "source": [
    "np.where(Z == Z_dict_max)"
   ]
  },
  {
   "cell_type": "markdown",
   "id": "formed-collaboration",
   "metadata": {},
   "source": [
    "### 3. 如何利用 list(...) 實現 a.tolist() 的效果？試著用程式實作。\n"
   ]
  },
  {
   "cell_type": "code",
   "execution_count": 17,
   "id": "pending-canon",
   "metadata": {},
   "outputs": [
    {
     "name": "stdout",
     "output_type": "stream",
     "text": [
      "[5, 8, 9, 5, 0, 0]\n",
      "[5, 8, 9, 5, 0, 0]\n"
     ]
    }
   ],
   "source": [
    "np.random.seed(1)\n",
    "a = np.random.randint(10, size=6) \n",
    "print(a.tolist())\n",
    "print(list(a))"
   ]
  },
  {
   "cell_type": "code",
   "execution_count": 18,
   "id": "endangered-bangladesh",
   "metadata": {},
   "outputs": [
    {
     "name": "stdout",
     "output_type": "stream",
     "text": [
      "[[8, 8, 6, 2], [8, 7, 2, 1], [5, 4, 4, 5]]\n",
      "[array([8, 8, 6, 2]), array([8, 7, 2, 1]), array([5, 4, 4, 5])]\n",
      "[[8, 8, 6, 2], [8, 7, 2, 1], [5, 4, 4, 5]]\n"
     ]
    }
   ],
   "source": [
    "np.random.seed(2)\n",
    "b = np.random.randint(10, size=(3,4)) \n",
    "print(b.tolist())\n",
    "print(list(b))\n",
    "newlist_b = []\n",
    "for i in b:\n",
    "    newlist_b.append(list(i))\n",
    "print(newlist_b)"
   ]
  },
  {
   "cell_type": "code",
   "execution_count": 33,
   "id": "hybrid-weight",
   "metadata": {},
   "outputs": [
    {
     "name": "stdout",
     "output_type": "stream",
     "text": [
      "[[[8, 9], [3, 8], [8, 0]], [[5, 3], [9, 9], [5, 7]]]\n",
      "[array([[8, 9],\n",
      "       [3, 8],\n",
      "       [8, 0]]), array([[5, 3],\n",
      "       [9, 9],\n",
      "       [5, 7]])]\n",
      "[8 9]\n",
      "[3 8]\n",
      "[8 0]\n",
      "[5 3]\n",
      "[9 9]\n",
      "[5 7]\n"
     ]
    }
   ],
   "source": [
    "np.random.seed(3)\n",
    "c = np.random.randint(10, size=(2,3,2)) \n",
    "print(c.tolist())\n",
    "print(list(c))\n",
    "newlist_c = []\n",
    "for i in range(c.shape[0]):\n",
    "    for j in range(c.shape[1]):\n",
    "        print(c[i][j])"
   ]
  },
  {
   "cell_type": "code",
   "execution_count": 48,
   "id": "electoral-agriculture",
   "metadata": {},
   "outputs": [
    {
     "name": "stdout",
     "output_type": "stream",
     "text": [
      "[[[8, 9], [3, 8], [8, 0]], [[5, 3], [9, 9], [5, 7]]]\n",
      "[array([[8, 9],\n",
      "       [3, 8],\n",
      "       [8, 0]]), array([[5, 3],\n",
      "       [9, 9],\n",
      "       [5, 7]])]\n",
      "[[8, 9], [3, 8], [8, 0], [5, 3], [9, 9], [5, 7]]\n"
     ]
    }
   ],
   "source": [
    "np.random.seed(3)\n",
    "c = np.random.randint(10, size=(2,3,2)) \n",
    "print(c.tolist())\n",
    "print(list(c))\n",
    "newlist_c = []\n",
    "for i in range(c.shape[0]):\n",
    "    for j in range(c.shape[1]):\n",
    "        newlist_c.append(list(c[i][j]))\n",
    "print(newlist_c)"
   ]
  }
 ],
 "metadata": {
  "kernelspec": {
   "display_name": "Python 3",
   "language": "python",
   "name": "python3"
  },
  "language_info": {
   "codemirror_mode": {
    "name": "ipython",
    "version": 3
   },
   "file_extension": ".py",
   "mimetype": "text/x-python",
   "name": "python",
   "nbconvert_exporter": "python",
   "pygments_lexer": "ipython3",
   "version": "3.8.4"
  }
 },
 "nbformat": 4,
 "nbformat_minor": 5
}
